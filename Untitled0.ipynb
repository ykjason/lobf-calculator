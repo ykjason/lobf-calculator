{
  "nbformat": 4,
  "nbformat_minor": 0,
  "metadata": {
    "colab": {
      "name": "Untitled0.ipynb",
      "provenance": []
    },
    "kernelspec": {
      "name": "python3",
      "display_name": "Python 3"
    },
    "language_info": {
      "name": "python"
    }
  },
  "cells": [
    {
      "cell_type": "code",
      "source": [
        "import matplotlib.pyplot as plt\n",
        "import numpy as np"
      ],
      "metadata": {
        "id": "7qmggz4RKxvM"
      },
      "execution_count": 2,
      "outputs": []
    },
    {
      "cell_type": "code",
      "source": [
        "def get_points():\n",
        "    # Return a dict of points (tuples) from user input\n",
        "    # Ex. {2:3, 4:5}\n",
        "    points = {}\n",
        "    while True:\n",
        "        point_input = input(\"Enter point (x, y) or \\'done\\': \")\n",
        "        if point_input == 'done':\n",
        "            break\n",
        "        else:\n",
        "            point_input.split(',')\n",
        "            points[int(point_input[0])] = int(point_input[-1])\n",
        "    return points\n",
        "\n",
        "def find_equation_theta(point_dict):\n",
        "    max_thetas = 4\n",
        "    learning_rate = 0.03\n",
        "    calculate_theta(point_dict, max_thetas, learning_rate)\n",
        "\n",
        "def calculate_theta(point_dict, max_thetas, learning_rate):\n",
        "    theta_list = [0] * max_thetas\n",
        "    for i in range(1):\n",
        "        # each loop calculates the appropriate theta for equations in the order of\n",
        "        # linear (1 theta), linear (2 thetas), quadratic (3 thetas), cubic (4 thetas)\n",
        "        x_values = point_dict.keys()\n",
        "        prev_convergence_list = [0] * max_thetas\n",
        "        convergence_list = [0] * max_thetas\n",
        "        while True:\n",
        "            for j in range(i + 1):\n",
        "                predicted_y = [theta_list[j]*x**j for x in x_values]\n",
        "                temp = [(predicted_y[j]-point_dict[x])*x**j for x in x_values]\n",
        "                temp = sum(temp)/len(x_values)\n",
        "                theta_list[j] -= learning_rate * temp\n",
        "                convergence_list[j] = temp\n",
        "                plt.plot(np.array(list(x_values)), np.array(predicted_y))\n",
        "            if sum(abs(np.subtract(convergence_list, prev_convergence_list)))/len(convergence_list) < 0.001:\n",
        "                break\n",
        "            else:\n",
        "                prev_convergence_list = convergence_list\n",
        "\n",
        "\n",
        "point_dict = get_points()\n",
        "find_equation_theta(point_dict)\n"
      ],
      "metadata": {
        "colab": {
          "base_uri": "https://localhost:8080/",
          "height": 300
        },
        "id": "282G6kFrKgtz",
        "outputId": "602cf25d-c711-4218-82c8-d8c84025163a"
      },
      "execution_count": 5,
      "outputs": [
        {
          "name": "stdout",
          "output_type": "stream",
          "text": [
            "Enter point (x, y) or 'done': 3,4\n",
            "Enter point (x, y) or 'done': done\n"
          ]
        },
        {
          "output_type": "display_data",
          "data": {
            "image/png": "[encoded data removed]",
            "text/plain": [
              "<Figure size 432x288 with 1 Axes>"
            ]
          },
          "metadata": {
            "needs_background": "light"
          }
        }
      ]
    },
    {
      "cell_type": "code",
      "execution_count": null,
      "metadata": {
        "id": "nX5q1H4dKeku"
      },
      "outputs": [],
      "source": [
        ""
      ]
    }
  ]
}